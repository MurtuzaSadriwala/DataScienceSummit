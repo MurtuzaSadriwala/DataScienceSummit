{
  "nbformat": 4,
  "nbformat_minor": 0,
  "metadata": {
    "colab": {
      "name": "eightqueen.ipynb",
      "provenance": [],
      "include_colab_link": true
    },
    "kernelspec": {
      "name": "python3",
      "display_name": "Python 3"
    }
  },
  "cells": [
    {
      "cell_type": "markdown",
      "metadata": {
        "id": "view-in-github",
        "colab_type": "text"
      },
      "source": [
        "<a href=\"https://colab.research.google.com/github/MurtuzaSadriwala/DataScienceSummit/blob/master/eightqueen.ipynb\" target=\"_parent\"><img src=\"https://colab.research.google.com/assets/colab-badge.svg\" alt=\"Open In Colab\"/></a>"
      ]
    },
    {
      "cell_type": "markdown",
      "metadata": {
        "id": "nNgJX1EqMdQD",
        "colab_type": "text"
      },
      "source": [
        "*Starting* with random populaltion"
      ]
    },
    {
      "cell_type": "code",
      "metadata": {
        "id": "RvFdAY_XMkAl",
        "colab_type": "code",
        "colab": {}
      },
      "source": [
        "import random\n",
        "import math\n",
        "\n",
        "populationSize = 150\n",
        "crossover = 0.30\n",
        "mutationRate = 0.01"
      ],
      "execution_count": null,
      "outputs": []
    },
    {
      "cell_type": "code",
      "metadata": {
        "id": "e6pY7loBFotB",
        "colab_type": "code",
        "colab": {}
      },
      "source": [
        "def getPopulation(noOfQueen) :\n",
        "  return [random.sample(range(0,noOfQueen),noOfQueen) for _ in range(populationSize)]"
      ],
      "execution_count": null,
      "outputs": []
    },
    {
      "cell_type": "code",
      "metadata": {
        "id": "FCrD-bbIGR-f",
        "colab_type": "code",
        "colab": {}
      },
      "source": [
        "def getFitness(noOfQueen, chromosome):\n",
        "  clashes = 0\n",
        "  for i in range(noOfQueen):\n",
        "    for j in range(i, noOfQueen):\n",
        "      if i != j:\n",
        "        if abs(i-j) == abs(chromosome[i] - chromosome[j]):\n",
        "          clashes +=1\n",
        "  return clashes"
      ],
      "execution_count": null,
      "outputs": []
    },
    {
      "cell_type": "code",
      "metadata": {
        "id": "EH1n9tSgyYAR",
        "colab_type": "code",
        "colab": {}
      },
      "source": [
        "def getKey(item):\n",
        "  return item[0]"
      ],
      "execution_count": null,
      "outputs": []
    },
    {
      "cell_type": "code",
      "metadata": {
        "id": "_rUdJuWhk8qh",
        "colab_type": "code",
        "colab": {}
      },
      "source": [
        "def crossOver(parent1, parent2, crossOverRate):\n",
        "  if(crossOverRate > 0.7):\n",
        "    raise Exception(\"CrossOverRate Can't be more than 70%\")\n",
        "  noOfChar = math.floor(len(parent1) * crossOverRate)\n",
        "  return parent1[0 : noOfChar] + parent2[noOfChar : len(parent2)]"
      ],
      "execution_count": null,
      "outputs": []
    },
    {
      "cell_type": "code",
      "metadata": {
        "id": "f_jl-fgrn0M1",
        "colab_type": "code",
        "colab": {}
      },
      "source": [
        "def mutate(chromosome, mutationRate):\n",
        "  if(mutationRate > 0.9):\n",
        "    raise Exception(\"Mutation Rate can't be more than 90%\")\n",
        "  print(\"mutationRate: \"+str(mutationRate))\n",
        "  print(\"mutation input:\"+ str(chromosome))\n",
        "  print(\"length of chromosome: \"+ str(len(chromosome)))\n",
        "  noOfCharToMutate = math.floor(len(chromosome) * mutationRate)\n",
        "  print(\"noOfCharTomutate:\"+ str(noOfCharToMutate))\n",
        "  for i in range(noOfCharToMutate):\n",
        "    newNumber = random.randint(0, noOfQueen-1)\n",
        "    chromosome[newNumber] = newNumber\n",
        "  print(\"mutateChild:\" + str(chromosome))\n",
        "  return chromosome "
      ],
      "execution_count": null,
      "outputs": []
    },
    {
      "cell_type": "code",
      "metadata": {
        "id": "xJ3G3FT1fLH6",
        "colab_type": "code",
        "colab": {}
      },
      "source": [
        "class EightQueen(object):\n",
        "  noOfQueen = 0\n",
        "  crossOverRate = 0\n",
        "  mutationRate = 0\n",
        "\n",
        "  def __init__(self, noOfQueen, crossOverRate, mutationRate):\n",
        "    self.noOfQueen = noOfQueen\n",
        "    self.crossOverRate = crossOverRate\n",
        "    self.mutationRate = mutationRate\n",
        "\n",
        "  def getQueenPlacement(self):\n",
        "    print(\"No of Queen:\"+ str(self.noOfQueen))\n",
        "    population = getPopulation(self.noOfQueen)\n",
        "    populationWithFitness = []\n",
        "    for chromosome in population:\n",
        "      populationWithFitness.append([getFitness(self.noOfQueen, chromosome), chromosome])\n",
        "    generationCount = 1\n",
        "    while generationCount < 10:\n",
        "      print('generation: '+ str(generationCount))\n",
        "      print(populationWithFitness[0])\n",
        "      populationWithFitness = sorted(populationWithFitness, key=getKey)\n",
        "      if populationWithFitness[0][0] == 0:\n",
        "        break\n",
        "      ## get the first two chromosome and do crossover\n",
        "      print(\"parent1 :\" + str(populationWithFitness[0][1]))\n",
        "      child = crossOver(populationWithFitness[0][1], populationWithFitness[1][1], self.crossOverRate) \n",
        "      # Mutate Chromosomes.\n",
        "      mutatedChild = mutate(child, self.mutationRate)\n",
        "      print()\n",
        "      # check if clash score is less than the parents, if yes take the child and the parent with lesser clash score out of the 2\n",
        "      populationWithFitness.append([getFitness(self.noOfQueen, mutatedChild), mutatedChild])\n",
        "      generationCount+=1\n",
        "\n",
        "    return populationWithFitness[0][1]"
      ],
      "execution_count": null,
      "outputs": []
    },
    {
      "cell_type": "code",
      "metadata": {
        "id": "xwPzISsqlUnj",
        "colab_type": "code",
        "colab": {}
      },
      "source": [
        "if __name__ == \"__main__\" :\n",
        "  eightQueen = EightQueen(8, 0.4, 0.3)\n",
        "  rightSequence = eightQueen.getQueenPlacement()\n",
        "  print(\"Correct Sequence: \"+ str(rightSequence))"
      ],
      "execution_count": null,
      "outputs": []
    }
  ]
}