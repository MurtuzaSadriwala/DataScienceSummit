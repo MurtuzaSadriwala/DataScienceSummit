{
  "nbformat": 4,
  "nbformat_minor": 0,
  "metadata": {
    "colab": {
      "name": "Untitled1.ipynb",
      "provenance": [],
      "authorship_tag": "ABX9TyNPK7JKzE8/NMdD9XPcdOHl",
      "include_colab_link": true
    },
    "kernelspec": {
      "name": "python3",
      "display_name": "Python 3"
    }
  },
  "cells": [
    {
      "cell_type": "markdown",
      "metadata": {
        "id": "view-in-github",
        "colab_type": "text"
      },
      "source": [
        "<a href=\"https://colab.research.google.com/github/MurtuzaSadriwala/DataScienceSummit/blob/master/diabetes_prediction.ipynb\" target=\"_parent\"><img src=\"https://colab.research.google.com/assets/colab-badge.svg\" alt=\"Open In Colab\"/></a>"
      ]
    },
    {
      "cell_type": "code",
      "metadata": {
        "id": "nqPYXJ_SummO",
        "colab_type": "code",
        "colab": {}
      },
      "source": [
        "import pandas as pd\n",
        "from sklearn.ensemble import RandomForestClassifier\n",
        "from sklearn.model_selection import train_test_split\n",
        "import numpy as np"
      ],
      "execution_count": 73,
      "outputs": []
    },
    {
      "cell_type": "code",
      "metadata": {
        "id": "1650-6JUvjbU",
        "colab_type": "code",
        "colab": {}
      },
      "source": [
        "x = pd.read_csv('train.csv')"
      ],
      "execution_count": 49,
      "outputs": []
    },
    {
      "cell_type": "code",
      "metadata": {
        "id": "D11FtSd3d65Z",
        "colab_type": "code",
        "colab": {}
      },
      "source": [
        "df = pd.DataFrame(data={'a': [1,2,3], 'b': [4,5,6]})"
      ],
      "execution_count": 59,
      "outputs": []
    },
    {
      "cell_type": "code",
      "metadata": {
        "id": "1AFC0Nbhflne",
        "colab_type": "code",
        "colab": {}
      },
      "source": [
        "df['o']= (df.a == 1).astype('int') "
      ],
      "execution_count": 64,
      "outputs": []
    },
    {
      "cell_type": "code",
      "metadata": {
        "id": "5P5R3vM_f9PV",
        "colab_type": "code",
        "colab": {}
      },
      "source": [
        "prevalence = sum(x.diabetesMed)/len(x.diabetesMed)"
      ],
      "execution_count": 71,
      "outputs": []
    },
    {
      "cell_type": "code",
      "metadata": {
        "id": "2FEZKO_-mAhr",
        "colab_type": "code",
        "colab": {}
      },
      "source": [
        "x = x.replace(\"?\", np.nan)"
      ],
      "execution_count": 74,
      "outputs": []
    }
  ]
}